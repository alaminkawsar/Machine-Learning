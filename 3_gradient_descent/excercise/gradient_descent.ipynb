{
 "cells": [
  {
   "cell_type": "code",
   "execution_count": 15,
   "id": "f5eb1467",
   "metadata": {},
   "outputs": [
    {
     "name": "stdout",
     "output_type": "stream",
     "text": [
      "Using gradient descent coeffiecient=1.0177381667350405 and Intercept=1.9150826165722297\n",
      "using sklearn descent coeffiecinet = [1.01773624] and Intercept = 1.9152193111569176\n"
     ]
    }
   ],
   "source": [
    "import numpy as np\n",
    "from numpy.lib.function_base import gradient\n",
    "import pandas as pd \n",
    "import math\n",
    "from sklearn.linear_model import LinearRegression\n",
    "\n",
    "def predict_using_sklearn():\n",
    "    df = pd.read_csv(\"test_scores.csv\")\n",
    "    r = LinearRegression()\n",
    "    r.fit(df[['math']],df.cs)\n",
    "    return r.coef_, r.intercept_\n",
    "\n",
    "def gradient_descent(x,y):\n",
    "    m_curr=0\n",
    "    b_curr=0\n",
    "    learning_rate = 0.0002\n",
    "    iterations = 1000000\n",
    "    prev_cost = 0\n",
    "    n = len(x)\n",
    "    for i in range(iterations):\n",
    "        y_predicted = m_curr * x + b_curr\n",
    "        cost = (1/n)*sum([value**2 for value in (y-y_predicted)])\n",
    "        md = -(2/n)*sum(x*(y-y_predicted))\n",
    "        bd = -(2/n)*sum(y-y_predicted)\n",
    "        m_curr = m_curr - learning_rate * md\n",
    "        b_curr = b_curr - learning_rate * bd\n",
    "        if math.isclose(cost, prev_cost, rel_tol=1e-20):\n",
    "            break\n",
    "        #print(cost_previous = cost}, iteration {}\".format(m_curr,b_curr,abs(cost-prev_cost),i))\n",
    "        prev_cost = cost\n",
    "        \n",
    "    return m_curr, b_curr\n",
    "\n",
    "\n",
    "if __name__ == \"__main__\":\n",
    "    df = pd.read_csv('test_scores.csv')\n",
    "    x = np.array(df['math'])\n",
    "    y = np.array(df['cs'])\n",
    "    \n",
    "    m,b = gradient_descent(x,y)\n",
    "    print(\"Using gradient descent coeffiecient={} and Intercept={}\".format(m,b))\n",
    "    \n",
    "    msk,bsk = predict_using_sklearn()\n",
    "    print(\"using sklearn descent coeffiecinet = {} and Intercept = {}\".format(msk,bsk))\n",
    "\n"
   ]
  },
  {
   "cell_type": "code",
   "execution_count": null,
   "id": "590b7e62",
   "metadata": {},
   "outputs": [],
   "source": []
  }
 ],
 "metadata": {
  "kernelspec": {
   "display_name": "Python 3 (ipykernel)",
   "language": "python",
   "name": "python3"
  },
  "language_info": {
   "codemirror_mode": {
    "name": "ipython",
    "version": 3
   },
   "file_extension": ".py",
   "mimetype": "text/x-python",
   "name": "python",
   "nbconvert_exporter": "python",
   "pygments_lexer": "ipython3",
   "version": "3.8.5"
  }
 },
 "nbformat": 4,
 "nbformat_minor": 5
}
